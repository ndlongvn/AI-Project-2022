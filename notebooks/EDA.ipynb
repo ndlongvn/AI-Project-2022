{
 "cells": [
  {
   "cell_type": "code",
   "execution_count": null,
   "metadata": {},
   "outputs": [],
   "source": [
    "import sys\n",
    "import os\n",
    "sys.path.append(os.path.abspath(os.path.join('..')))\n",
    "from scripts.utils import *"
   ]
  },
  {
   "cell_type": "code",
   "execution_count": null,
   "metadata": {},
   "outputs": [],
   "source": [
    "epoch= 20\n",
    "batch_size= 32\n",
    "input_shape= (128, 128, 1)\n",
    "using_class_weight= True\n",
    "num_classes= 5\n",
    "train_data, val_data, test_data= get_data('data_1', input_shape, batch_size)\n",
    "dict_class = train_data.class_indices\n",
    "print('Dictionary: {}'.format(dict_class))\n",
    "class_names = list(dict_class.keys())  # storing class/breed names in a list\n",
    "print('Class labels: {}'.format(class_names))\n",
    "frequency = np.unique(train_data.classes, return_counts=True)\n",
    "\n",
    "plt.title(\"Trainning dataset\", fontsize='16')\n",
    "plt.pie(frequency[1], labels = class_names, autopct='%1.0f%%')"
   ]
  }
 ],
 "metadata": {
  "language_info": {
   "name": "python"
  },
  "orig_nbformat": 4
 },
 "nbformat": 4,
 "nbformat_minor": 2
}
