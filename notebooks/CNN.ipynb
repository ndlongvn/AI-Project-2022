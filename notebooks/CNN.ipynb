{
 "cells": [
  {
   "cell_type": "code",
   "execution_count": 2,
   "metadata": {},
   "outputs": [
    {
     "name": "stderr",
     "output_type": "stream",
     "text": [
      "2023-06-27 14:53:42.429157: I tensorflow/core/platform/cpu_feature_guard.cc:193] This TensorFlow binary is optimized with oneAPI Deep Neural Network Library (oneDNN) to use the following CPU instructions in performance-critical operations:  AVX2 FMA\n",
      "To enable them in other operations, rebuild TensorFlow with the appropriate compiler flags.\n",
      "2023-06-27 14:53:50.419807: W tensorflow/compiler/xla/stream_executor/platform/default/dso_loader.cc:64] Could not load dynamic library 'libnvinfer.so.7'; dlerror: libnvinfer.so.7: cannot open shared object file: No such file or directory\n",
      "2023-06-27 14:53:50.420518: W tensorflow/compiler/xla/stream_executor/platform/default/dso_loader.cc:64] Could not load dynamic library 'libnvinfer_plugin.so.7'; dlerror: libnvinfer_plugin.so.7: cannot open shared object file: No such file or directory\n",
      "2023-06-27 14:53:50.420612: W tensorflow/compiler/tf2tensorrt/utils/py_utils.cc:38] TF-TRT Warning: Cannot dlopen some TensorRT libraries. If you would like to use Nvidia GPU with TensorRT, please make sure the missing libraries mentioned above are installed properly.\n"
     ]
    }
   ],
   "source": [
    "import sys\n",
    "import os\n",
    "sys.path.append(os.path.abspath(os.path.join('..')))\n",
    "from scripts.utils import *\n",
    "from keras.callbacks import ModelCheckpoint, EarlyStopping, ReduceLROnPlateau\n",
    "from model.CNN import CNN_Model"
   ]
  },
  {
   "attachments": {},
   "cell_type": "markdown",
   "metadata": {},
   "source": [
    "#### Using weights"
   ]
  },
  {
   "cell_type": "code",
   "execution_count": 3,
   "metadata": {},
   "outputs": [],
   "source": [
    "# Init hyperparameters\n",
    "epoch= 30\n",
    "batch_size= 128\n",
    "input_shape= (128, 128, 3)\n",
    "using_class_weight= False\n",
    "num_classes= 5"
   ]
  },
  {
   "cell_type": "code",
   "execution_count": 3,
   "metadata": {},
   "outputs": [],
   "source": [
    "model= CNN_Model(input_shape= input_shape, num_classes= num_classes)"
   ]
  },
  {
   "cell_type": "code",
   "execution_count": 4,
   "metadata": {},
   "outputs": [
    {
     "name": "stdout",
     "output_type": "stream",
     "text": [
      "Model: \"sequential\"\n",
      "_________________________________________________________________\n",
      " Layer (type)                Output Shape              Param #   \n",
      "=================================================================\n",
      " conv1_1 (Conv2D)            (None, 128, 128, 64)      1792      \n",
      "                                                                 \n",
      " conv1_2 (Conv2D)            (None, 128, 128, 64)      36928     \n",
      "                                                                 \n",
      " bn1 (BatchNormalization)    (None, 128, 128, 64)      256       \n",
      "                                                                 \n",
      " maxpool1 (MaxPooling2D)     (None, 64, 64, 64)        0         \n",
      "                                                                 \n",
      " conv2_1 (Conv2D)            (None, 64, 64, 128)       73856     \n",
      "                                                                 \n",
      " conv2_2 (Conv2D)            (None, 64, 64, 128)       147584    \n",
      "                                                                 \n",
      " bn2 (BatchNormalization)    (None, 64, 64, 128)       512       \n",
      "                                                                 \n",
      " maxpool2 (MaxPooling2D)     (None, 32, 32, 128)       0         \n",
      "                                                                 \n",
      " conv3_1 (Conv2D)            (None, 32, 32, 256)       295168    \n",
      "                                                                 \n",
      " conv3_2 (Conv2D)            (None, 32, 32, 256)       590080    \n",
      "                                                                 \n",
      " bn3 (BatchNormalization)    (None, 32, 32, 256)       1024      \n",
      "                                                                 \n",
      " maxpool3 (MaxPooling2D)     (None, 16, 16, 256)       0         \n",
      "                                                                 \n",
      " conv4_1 (Conv2D)            (None, 16, 16, 512)       1180160   \n",
      "                                                                 \n",
      " conv4_2 (Conv2D)            (None, 16, 16, 512)       2359808   \n",
      "                                                                 \n",
      " conv4_3 (Conv2D)            (None, 16, 16, 512)       2359808   \n",
      "                                                                 \n",
      " bn4 (BatchNormalization)    (None, 16, 16, 512)       2048      \n",
      "                                                                 \n",
      " maxpool4 (MaxPooling2D)     (None, 8, 8, 512)         0         \n",
      "                                                                 \n",
      " conv5_1 (Conv2D)            (None, 8, 8, 512)         2359808   \n",
      "                                                                 \n",
      " conv5_2 (Conv2D)            (None, 8, 8, 512)         2359808   \n",
      "                                                                 \n",
      " conv5_3 (Conv2D)            (None, 8, 8, 512)         2359808   \n",
      "                                                                 \n",
      " batch_normalization (BatchN  (None, 8, 8, 512)        2048      \n",
      " ormalization)                                                   \n",
      "                                                                 \n",
      " maxpool5 (MaxPooling2D)     (None, 4, 4, 512)         0         \n",
      "                                                                 \n",
      " flatten (Flatten)           (None, 8192)              0         \n",
      "                                                                 \n",
      " dense1 (Dense)              (None, 64)                524352    \n",
      "                                                                 \n",
      " dropout (Dropout)           (None, 64)                0         \n",
      "                                                                 \n",
      " bn5 (BatchNormalization)    (None, 64)                256       \n",
      "                                                                 \n",
      " dense2 (Dense)              (None, 5)                 325       \n",
      "                                                                 \n",
      "=================================================================\n",
      "Total params: 14,655,429\n",
      "Trainable params: 14,652,357\n",
      "Non-trainable params: 3,072\n",
      "_________________________________________________________________\n"
     ]
    }
   ],
   "source": [
    "model.summary()"
   ]
  },
  {
   "cell_type": "code",
   "execution_count": 4,
   "metadata": {},
   "outputs": [
    {
     "name": "stdout",
     "output_type": "stream",
     "text": [
      "Found 10639 validated image filenames belonging to 5 classes.\n",
      "Found 2662 validated image filenames belonging to 5 classes.\n"
     ]
    }
   ],
   "source": [
    "# load data\n",
    "train_data, test_data= get_data('/media/data3/users/longnd/ML_prj/Data', input_shape, batch_size)\n",
    "model= CNN_Model(input_shape= input_shape, num_classes= num_classes)\n",
    "model_path = \"/media/data3/users/longnd/ML_prj/checkpoints/cnn.h5\"\n",
    "checkpoint = ModelCheckpoint(filepath= model_path,\n",
    "                            save_weights_only= True,\n",
    "                            monitor= 'val_accuracy',\n",
    "                            save_best_only= True, verbose=1)\n",
    "\n",
    "earlystop = EarlyStopping(monitor= 'val_accuracy', \n",
    "                          min_delta= 0.01, \n",
    "                          patience= 15,\n",
    "                          verbose= 1,\n",
    "                          restore_best_weights= True)\n",
    "\n",
    "learning_rate_reduction = ReduceLROnPlateau(monitor='val_accuracy', \n",
    "                                            patience=3, \n",
    "                                            verbose=1, \n",
    "                                            factor=0.2, \n",
    "                                            min_lr=0.00000001)\n",
    "model_compiling(model)"
   ]
  },
  {
   "cell_type": "code",
   "execution_count": 6,
   "metadata": {},
   "outputs": [],
   "source": [
    "# model.load_weights(model_path)"
   ]
  },
  {
   "cell_type": "code",
   "execution_count": 7,
   "metadata": {},
   "outputs": [],
   "source": [
    "classes= get_classes()"
   ]
  },
  {
   "cell_type": "code",
   "execution_count": 36,
   "metadata": {},
   "outputs": [],
   "source": [
    "df= pd.DataFrame(train_data.labels).value_counts()#.plot(kind='bar')"
   ]
  },
  {
   "cell_type": "code",
   "execution_count": 37,
   "metadata": {},
   "outputs": [],
   "source": [
    "ex= {i: classes[i] for i in range(len(classes))}"
   ]
  },
  {
   "cell_type": "code",
   "execution_count": 38,
   "metadata": {},
   "outputs": [],
   "source": [
    "mn= {ex[i]:df[i] for i in ex}"
   ]
  },
  {
   "cell_type": "code",
   "execution_count": 39,
   "metadata": {},
   "outputs": [
    {
     "data": {
      "text/plain": [
       "{'COVID19': 460,\n",
       " 'NORMAL1': 4066,\n",
       " 'PNEUMONIA': 3418,\n",
       " 'TUBERCULOSIS': 560,\n",
       " 'PNEUMOTHORAX': 2135}"
      ]
     },
     "execution_count": 39,
     "metadata": {},
     "output_type": "execute_result"
    }
   ],
   "source": [
    "mn"
   ]
  },
  {
   "cell_type": "code",
   "execution_count": 21,
   "metadata": {},
   "outputs": [],
   "source": [
    "df.columns = [classs for i, classs in enumerate(classes)]\n"
   ]
  },
  {
   "cell_type": "code",
   "execution_count": 22,
   "metadata": {},
   "outputs": [
    {
     "data": {
      "text/plain": [
       "count\n",
       "1017    1\n",
       "855     1\n",
       "534     1\n",
       "140     1\n",
       "116     1\n",
       "Name: count, dtype: int64"
      ]
     },
     "execution_count": 22,
     "metadata": {},
     "output_type": "execute_result"
    }
   ],
   "source": [
    "df.value_counts()"
   ]
  },
  {
   "cell_type": "code",
   "execution_count": 20,
   "metadata": {},
   "outputs": [
    {
     "ename": "TypeError",
     "evalue": "Series.rename() got an unexpected keyword argument 'columns'",
     "output_type": "error",
     "traceback": [
      "\u001b[0;31m---------------------------------------------------------------------------\u001b[0m",
      "\u001b[0;31mTypeError\u001b[0m                                 Traceback (most recent call last)",
      "Cell \u001b[0;32mIn[20], line 1\u001b[0m\n\u001b[0;32m----> 1\u001b[0m df\u001b[39m.\u001b[39;49mrename(columns\u001b[39m=\u001b[39;49m{i: classs \u001b[39mfor\u001b[39;49;00m i, classs \u001b[39min\u001b[39;49;00m \u001b[39menumerate\u001b[39;49m(classes)}, inplace\u001b[39m=\u001b[39;49m \u001b[39mTrue\u001b[39;49;00m)\n",
      "\u001b[0;31mTypeError\u001b[0m: Series.rename() got an unexpected keyword argument 'columns'"
     ]
    }
   ],
   "source": [
    "df.rename(columns={i: classs for i, classs in enumerate(classes)}, inplace= True)"
   ]
  },
  {
   "cell_type": "code",
   "execution_count": 7,
   "metadata": {},
   "outputs": [
    {
     "data": {
      "text/plain": [
       "1    4066\n",
       "2    3418\n",
       "4    2135\n",
       "3     560\n",
       "0     460\n",
       "Name: count, dtype: int64"
      ]
     },
     "execution_count": 7,
     "metadata": {},
     "output_type": "execute_result"
    }
   ],
   "source": [
    "pd.DataFrame(train_data.classes).value_counts()"
   ]
  },
  {
   "cell_type": "code",
   "execution_count": 8,
   "metadata": {},
   "outputs": [
    {
     "name": "stdout",
     "output_type": "stream",
     "text": [
      "Epoch 1/30\n"
     ]
    },
    {
     "name": "stderr",
     "output_type": "stream",
     "text": [
      "2023-06-25 17:32:35.793279: W tensorflow/tsl/framework/bfc_allocator.cc:290] Allocator (GPU_0_bfc) ran out of memory trying to allocate 6.06GiB with freed_by_count=0. The caller indicates that this is not a failure, but this may mean that there could be performance gains if more memory were available.\n",
      "2023-06-25 17:32:35.793304: W tensorflow/tsl/framework/bfc_allocator.cc:290] Allocator (GPU_0_bfc) ran out of memory trying to allocate 6.06GiB with freed_by_count=0. The caller indicates that this is not a failure, but this may mean that there could be performance gains if more memory were available.\n"
     ]
    },
    {
     "name": "stdout",
     "output_type": "stream",
     "text": [
      "84/84 [==============================] - ETA: 0s - loss: 1.2715 - accuracy: 0.6774 - precision: 0.7486 - recall: 0.5933 - f1_score: 0.6619\n",
      "Epoch 1: val_accuracy improved from -inf to 0.05259, saving model to /media/data3/users/longnd/ML_prj/checkpoints/cnn.h5\n",
      "84/84 [==============================] - 117s 1s/step - loss: 1.2715 - accuracy: 0.6774 - precision: 0.7486 - recall: 0.5933 - f1_score: 0.6619 - val_loss: 7.6701 - val_accuracy: 0.0526 - val_precision: 0.0520 - val_recall: 0.0518 - val_f1_score: 0.0519 - lr: 0.0010\n",
      "Epoch 2/30\n",
      "84/84 [==============================] - ETA: 0s - loss: 0.9665 - accuracy: 0.7947 - precision: 0.8315 - recall: 0.7473 - f1_score: 0.7872\n",
      "Epoch 2: val_accuracy improved from 0.05259 to 0.32682, saving model to /media/data3/users/longnd/ML_prj/checkpoints/cnn.h5\n",
      "84/84 [==============================] - 102s 1s/step - loss: 0.9665 - accuracy: 0.7947 - precision: 0.8315 - recall: 0.7473 - f1_score: 0.7872 - val_loss: 4.1417 - val_accuracy: 0.3268 - val_precision: 0.3758 - val_recall: 0.2615 - val_f1_score: 0.3084 - lr: 0.0010\n",
      "Epoch 3/30\n",
      "84/84 [==============================] - ETA: 0s - loss: 0.8638 - accuracy: 0.8237 - precision: 0.8548 - recall: 0.7859 - f1_score: 0.8189\n",
      "Epoch 3: val_accuracy did not improve from 0.32682\n",
      "84/84 [==============================] - 116s 1s/step - loss: 0.8638 - accuracy: 0.8237 - precision: 0.8548 - recall: 0.7859 - f1_score: 0.8189 - val_loss: 3.1929 - val_accuracy: 0.1597 - val_precision: 0.1388 - val_recall: 0.0841 - val_f1_score: 0.1048 - lr: 0.0010\n",
      "Epoch 4/30\n",
      "84/84 [==============================] - ETA: 0s - loss: 0.7937 - accuracy: 0.8462 - precision: 0.8711 - recall: 0.8199 - f1_score: 0.8447\n",
      "Epoch 4: val_accuracy did not improve from 0.32682\n",
      "84/84 [==============================] - 150s 2s/step - loss: 0.7937 - accuracy: 0.8462 - precision: 0.8711 - recall: 0.8199 - f1_score: 0.8447 - val_loss: 4.9440 - val_accuracy: 0.0875 - val_precision: 0.1009 - val_recall: 0.0796 - val_f1_score: 0.0890 - lr: 0.0010\n",
      "Epoch 5/30\n",
      "84/84 [==============================] - ETA: 0s - loss: 0.7475 - accuracy: 0.8571 - precision: 0.8788 - recall: 0.8332 - f1_score: 0.8554\n",
      "Epoch 5: val_accuracy improved from 0.32682 to 0.48723, saving model to /media/data3/users/longnd/ML_prj/checkpoints/cnn.h5\n",
      "84/84 [==============================] - 105s 1s/step - loss: 0.7475 - accuracy: 0.8571 - precision: 0.8788 - recall: 0.8332 - f1_score: 0.8554 - val_loss: 2.4642 - val_accuracy: 0.4872 - val_precision: 0.5053 - val_recall: 0.4482 - val_f1_score: 0.4750 - lr: 0.0010\n",
      "Epoch 6/30\n",
      "84/84 [==============================] - ETA: 0s - loss: 0.7043 - accuracy: 0.8698 - precision: 0.8852 - recall: 0.8469 - f1_score: 0.8656\n",
      "Epoch 6: val_accuracy improved from 0.48723 to 0.63711, saving model to /media/data3/users/longnd/ML_prj/checkpoints/cnn.h5\n",
      "84/84 [==============================] - 120s 1s/step - loss: 0.7043 - accuracy: 0.8698 - precision: 0.8852 - recall: 0.8469 - f1_score: 0.8656 - val_loss: 1.4153 - val_accuracy: 0.6371 - val_precision: 0.6916 - val_recall: 0.5424 - val_f1_score: 0.6080 - lr: 0.0010\n",
      "Epoch 7/30\n",
      "84/84 [==============================] - ETA: 0s - loss: 0.6665 - accuracy: 0.8769 - precision: 0.8937 - recall: 0.8600 - f1_score: 0.8766\n",
      "Epoch 7: val_accuracy improved from 0.63711 to 0.75094, saving model to /media/data3/users/longnd/ML_prj/checkpoints/cnn.h5\n",
      "84/84 [==============================] - 115s 1s/step - loss: 0.6665 - accuracy: 0.8769 - precision: 0.8937 - recall: 0.8600 - f1_score: 0.8766 - val_loss: 1.1069 - val_accuracy: 0.7509 - val_precision: 0.7721 - val_recall: 0.7280 - val_f1_score: 0.7494 - lr: 0.0010\n",
      "Epoch 8/30\n",
      "84/84 [==============================] - ETA: 0s - loss: 0.9863 - accuracy: 0.7567 - precision: 0.7999 - recall: 0.7055 - f1_score: 0.7497\n",
      "Epoch 8: val_accuracy did not improve from 0.75094\n",
      "84/84 [==============================] - 102s 1s/step - loss: 0.9863 - accuracy: 0.7567 - precision: 0.7999 - recall: 0.7055 - f1_score: 0.7497 - val_loss: 6.5426 - val_accuracy: 0.3152 - val_precision: 0.3146 - val_recall: 0.3110 - val_f1_score: 0.3128 - lr: 0.0010\n",
      "Epoch 9/30\n",
      "84/84 [==============================] - ETA: 0s - loss: 0.8205 - accuracy: 0.8255 - precision: 0.8560 - recall: 0.7860 - f1_score: 0.8195\n",
      "Epoch 9: val_accuracy did not improve from 0.75094\n",
      "84/84 [==============================] - 102s 1s/step - loss: 0.8205 - accuracy: 0.8255 - precision: 0.8560 - recall: 0.7860 - f1_score: 0.8195 - val_loss: 10.1966 - val_accuracy: 0.0642 - val_precision: 0.0643 - val_recall: 0.0642 - val_f1_score: 0.0642 - lr: 0.0010\n",
      "Epoch 10/30\n",
      "84/84 [==============================] - ETA: 0s - loss: 0.7390 - accuracy: 0.8482 - precision: 0.8731 - recall: 0.8228 - f1_score: 0.8472\n",
      "Epoch 10: val_accuracy did not improve from 0.75094\n",
      "\n",
      "Epoch 10: ReduceLROnPlateau reducing learning rate to 0.00020000000949949026.\n",
      "84/84 [==============================] - 102s 1s/step - loss: 0.7390 - accuracy: 0.8482 - precision: 0.8731 - recall: 0.8228 - f1_score: 0.8472 - val_loss: 3.1192 - val_accuracy: 0.2310 - val_precision: 0.2178 - val_recall: 0.1811 - val_f1_score: 0.1977 - lr: 0.0010\n",
      "Epoch 11/30\n",
      "84/84 [==============================] - ETA: 0s - loss: 0.6520 - accuracy: 0.8818 - precision: 0.8985 - recall: 0.8621 - f1_score: 0.8799\n",
      "Epoch 11: val_accuracy did not improve from 0.75094\n",
      "84/84 [==============================] - 102s 1s/step - loss: 0.6520 - accuracy: 0.8818 - precision: 0.8985 - recall: 0.8621 - f1_score: 0.8799 - val_loss: 1.7694 - val_accuracy: 0.4290 - val_precision: 0.5200 - val_recall: 0.3618 - val_f1_score: 0.4267 - lr: 2.0000e-04\n",
      "Epoch 12/30\n",
      "84/84 [==============================] - ETA: 0s - loss: 0.6173 - accuracy: 0.8947 - precision: 0.9099 - recall: 0.8769 - f1_score: 0.8931\n",
      "Epoch 12: val_accuracy improved from 0.75094 to 0.84410, saving model to /media/data3/users/longnd/ML_prj/checkpoints/cnn.h5\n",
      "84/84 [==============================] - 103s 1s/step - loss: 0.6173 - accuracy: 0.8947 - precision: 0.9099 - recall: 0.8769 - f1_score: 0.8931 - val_loss: 0.7594 - val_accuracy: 0.8441 - val_precision: 0.8783 - val_recall: 0.8080 - val_f1_score: 0.8417 - lr: 2.0000e-04\n",
      "Epoch 13/30\n",
      "84/84 [==============================] - ETA: 0s - loss: 0.5935 - accuracy: 0.8991 - precision: 0.9121 - recall: 0.8835 - f1_score: 0.8976\n",
      "Epoch 13: val_accuracy did not improve from 0.84410\n",
      "84/84 [==============================] - 102s 1s/step - loss: 0.5935 - accuracy: 0.8991 - precision: 0.9121 - recall: 0.8835 - f1_score: 0.8976 - val_loss: 1.9415 - val_accuracy: 0.4177 - val_precision: 0.4414 - val_recall: 0.3621 - val_f1_score: 0.3979 - lr: 2.0000e-04\n",
      "Epoch 14/30\n",
      "84/84 [==============================] - ETA: 0s - loss: 0.5764 - accuracy: 0.9056 - precision: 0.9182 - recall: 0.8923 - f1_score: 0.9050\n",
      "Epoch 14: val_accuracy did not improve from 0.84410\n",
      "84/84 [==============================] - 101s 1s/step - loss: 0.5764 - accuracy: 0.9056 - precision: 0.9182 - recall: 0.8923 - f1_score: 0.9050 - val_loss: 0.7876 - val_accuracy: 0.8291 - val_precision: 0.8542 - val_recall: 0.7986 - val_f1_score: 0.8255 - lr: 2.0000e-04\n",
      "Epoch 15/30\n",
      "84/84 [==============================] - ETA: 0s - loss: 0.5583 - accuracy: 0.9088 - precision: 0.9206 - recall: 0.8962 - f1_score: 0.9083\n",
      "Epoch 15: val_accuracy did not improve from 0.84410\n",
      "\n",
      "Epoch 15: ReduceLROnPlateau reducing learning rate to 4.0000001899898055e-05.\n",
      "84/84 [==============================] - 102s 1s/step - loss: 0.5583 - accuracy: 0.9088 - precision: 0.9206 - recall: 0.8962 - f1_score: 0.9083 - val_loss: 1.5913 - val_accuracy: 0.5612 - val_precision: 0.6658 - val_recall: 0.5008 - val_f1_score: 0.5716 - lr: 2.0000e-04\n",
      "Epoch 16/30\n",
      "84/84 [==============================] - ETA: 0s - loss: 0.5286 - accuracy: 0.9185 - precision: 0.9277 - recall: 0.9076 - f1_score: 0.9176\n",
      "Epoch 16: val_accuracy improved from 0.84410 to 0.86364, saving model to /media/data3/users/longnd/ML_prj/checkpoints/cnn.h5\n",
      "84/84 [==============================] - 101s 1s/step - loss: 0.5286 - accuracy: 0.9185 - precision: 0.9277 - recall: 0.9076 - f1_score: 0.9176 - val_loss: 0.6606 - val_accuracy: 0.8636 - val_precision: 0.8833 - val_recall: 0.8449 - val_f1_score: 0.8637 - lr: 4.0000e-05\n",
      "Epoch 17/30\n",
      "84/84 [==============================] - ETA: 0s - loss: 0.5254 - accuracy: 0.9196 - precision: 0.9280 - recall: 0.9074 - f1_score: 0.9176\n",
      "Epoch 17: val_accuracy improved from 0.86364 to 0.87153, saving model to /media/data3/users/longnd/ML_prj/checkpoints/cnn.h5\n",
      "84/84 [==============================] - 102s 1s/step - loss: 0.5254 - accuracy: 0.9196 - precision: 0.9280 - recall: 0.9074 - f1_score: 0.9176 - val_loss: 0.6498 - val_accuracy: 0.8715 - val_precision: 0.8805 - val_recall: 0.8584 - val_f1_score: 0.8693 - lr: 4.0000e-05\n",
      "Epoch 18/30\n",
      "84/84 [==============================] - ETA: 0s - loss: 0.5203 - accuracy: 0.9225 - precision: 0.9319 - recall: 0.9119 - f1_score: 0.9218\n",
      "Epoch 18: val_accuracy did not improve from 0.87153\n",
      "84/84 [==============================] - 101s 1s/step - loss: 0.5203 - accuracy: 0.9225 - precision: 0.9319 - recall: 0.9119 - f1_score: 0.9218 - val_loss: 0.6469 - val_accuracy: 0.8704 - val_precision: 0.8787 - val_recall: 0.8603 - val_f1_score: 0.8694 - lr: 4.0000e-05\n",
      "Epoch 19/30\n",
      "84/84 [==============================] - ETA: 0s - loss: 0.5180 - accuracy: 0.9201 - precision: 0.9308 - recall: 0.9101 - f1_score: 0.9203\n",
      "Epoch 19: val_accuracy improved from 0.87153 to 0.87265, saving model to /media/data3/users/longnd/ML_prj/checkpoints/cnn.h5\n",
      "84/84 [==============================] - 101s 1s/step - loss: 0.5180 - accuracy: 0.9201 - precision: 0.9308 - recall: 0.9101 - f1_score: 0.9203 - val_loss: 0.6505 - val_accuracy: 0.8727 - val_precision: 0.8861 - val_recall: 0.8648 - val_f1_score: 0.8753 - lr: 4.0000e-05\n",
      "Epoch 20/30\n",
      "83/84 [============================>.] - ETA: 1s - loss: 0.5025 - accuracy: 0.9264 - precision: 0.9353 - recall: 0.9168 - f1_score: 0.9259\n",
      "Epoch 20: val_accuracy did not improve from 0.87265\n",
      "84/84 [==============================] - 101s 1s/step - loss: 0.5027 - accuracy: 0.9263 - precision: 0.9352 - recall: 0.9166 - f1_score: 0.9258 - val_loss: 0.6642 - val_accuracy: 0.8700 - val_precision: 0.8768 - val_recall: 0.8633 - val_f1_score: 0.8700 - lr: 4.0000e-05\n",
      "Epoch 21/30\n",
      "84/84 [==============================] - ETA: 0s - loss: 0.5028 - accuracy: 0.9251 - precision: 0.9347 - recall: 0.9150 - f1_score: 0.9248\n",
      "Epoch 21: val_accuracy did not improve from 0.87265\n",
      "84/84 [==============================] - 102s 1s/step - loss: 0.5028 - accuracy: 0.9251 - precision: 0.9347 - recall: 0.9150 - f1_score: 0.9248 - val_loss: 0.6523 - val_accuracy: 0.8723 - val_precision: 0.8801 - val_recall: 0.8659 - val_f1_score: 0.8729 - lr: 4.0000e-05\n",
      "Epoch 22/30\n",
      "83/84 [============================>.] - ETA: 1s - loss: 0.4991 - accuracy: 0.9256 - precision: 0.9351 - recall: 0.9173 - f1_score: 0.9261\n",
      "Epoch 22: val_accuracy did not improve from 0.87265\n",
      "\n",
      "Epoch 22: ReduceLROnPlateau reducing learning rate to 8.000000525498762e-06.\n",
      "84/84 [==============================] - 101s 1s/step - loss: 0.4991 - accuracy: 0.9256 - precision: 0.9350 - recall: 0.9172 - f1_score: 0.9260 - val_loss: 0.6605 - val_accuracy: 0.8719 - val_precision: 0.8793 - val_recall: 0.8644 - val_f1_score: 0.8718 - lr: 4.0000e-05\n",
      "Epoch 23/30\n",
      "84/84 [==============================] - ETA: 0s - loss: 0.4886 - accuracy: 0.9304 - precision: 0.9383 - recall: 0.9212 - f1_score: 0.9297\n",
      "Epoch 23: val_accuracy did not improve from 0.87265\n",
      "84/84 [==============================] - 102s 1s/step - loss: 0.4886 - accuracy: 0.9304 - precision: 0.9383 - recall: 0.9212 - f1_score: 0.9297 - val_loss: 0.6621 - val_accuracy: 0.8719 - val_precision: 0.8762 - val_recall: 0.8644 - val_f1_score: 0.8703 - lr: 8.0000e-06\n",
      "Epoch 24/30\n",
      "84/84 [==============================] - ETA: 0s - loss: 0.4836 - accuracy: 0.9316 - precision: 0.9404 - recall: 0.9230 - f1_score: 0.9316\n",
      "Epoch 24: val_accuracy improved from 0.87265 to 0.87641, saving model to /media/data3/users/longnd/ML_prj/checkpoints/cnn.h5\n",
      "84/84 [==============================] - 102s 1s/step - loss: 0.4836 - accuracy: 0.9316 - precision: 0.9404 - recall: 0.9230 - f1_score: 0.9316 - val_loss: 0.6413 - val_accuracy: 0.8764 - val_precision: 0.8882 - val_recall: 0.8711 - val_f1_score: 0.8796 - lr: 8.0000e-06\n",
      "Epoch 25/30\n",
      "84/84 [==============================] - ETA: 0s - loss: 0.4834 - accuracy: 0.9333 - precision: 0.9414 - recall: 0.9227 - f1_score: 0.9320\n",
      "Epoch 25: val_accuracy did not improve from 0.87641\n",
      "84/84 [==============================] - 102s 1s/step - loss: 0.4834 - accuracy: 0.9333 - precision: 0.9414 - recall: 0.9227 - f1_score: 0.9320 - val_loss: 0.6633 - val_accuracy: 0.8708 - val_precision: 0.8813 - val_recall: 0.8644 - val_f1_score: 0.8727 - lr: 8.0000e-06\n",
      "Epoch 26/30\n",
      "84/84 [==============================] - ETA: 0s - loss: 0.4837 - accuracy: 0.9319 - precision: 0.9409 - recall: 0.9242 - f1_score: 0.9325\n",
      "Epoch 26: val_accuracy did not improve from 0.87641\n",
      "84/84 [==============================] - 101s 1s/step - loss: 0.4837 - accuracy: 0.9319 - precision: 0.9409 - recall: 0.9242 - f1_score: 0.9325 - val_loss: 0.6585 - val_accuracy: 0.8738 - val_precision: 0.8793 - val_recall: 0.8674 - val_f1_score: 0.8733 - lr: 8.0000e-06\n",
      "Epoch 27/30\n",
      "84/84 [==============================] - ETA: 0s - loss: 0.4829 - accuracy: 0.9316 - precision: 0.9381 - recall: 0.9222 - f1_score: 0.9301\n",
      "Epoch 27: val_accuracy did not improve from 0.87641\n",
      "\n",
      "Epoch 27: ReduceLROnPlateau reducing learning rate to 1.6000001778593287e-06.\n",
      "84/84 [==============================] - 102s 1s/step - loss: 0.4829 - accuracy: 0.9316 - precision: 0.9381 - recall: 0.9222 - f1_score: 0.9301 - val_loss: 0.6581 - val_accuracy: 0.8715 - val_precision: 0.8822 - val_recall: 0.8636 - val_f1_score: 0.8728 - lr: 8.0000e-06\n",
      "Epoch 28/30\n",
      "84/84 [==============================] - ETA: 0s - loss: 0.4824 - accuracy: 0.9321 - precision: 0.9398 - recall: 0.9233 - f1_score: 0.9315\n",
      "Epoch 28: val_accuracy did not improve from 0.87641\n",
      "84/84 [==============================] - 102s 1s/step - loss: 0.4824 - accuracy: 0.9321 - precision: 0.9398 - recall: 0.9233 - f1_score: 0.9315 - val_loss: 0.6652 - val_accuracy: 0.8711 - val_precision: 0.8793 - val_recall: 0.8644 - val_f1_score: 0.8718 - lr: 1.6000e-06\n",
      "Epoch 29/30\n",
      "84/84 [==============================] - ETA: 0s - loss: 0.4820 - accuracy: 0.9312 - precision: 0.9391 - recall: 0.9231 - f1_score: 0.9310\n",
      "Epoch 29: val_accuracy did not improve from 0.87641\n",
      "84/84 [==============================] - 102s 1s/step - loss: 0.4820 - accuracy: 0.9312 - precision: 0.9391 - recall: 0.9231 - f1_score: 0.9310 - val_loss: 0.6656 - val_accuracy: 0.8723 - val_precision: 0.8791 - val_recall: 0.8659 - val_f1_score: 0.8724 - lr: 1.6000e-06\n",
      "Epoch 30/30\n",
      "84/84 [==============================] - ETA: 0s - loss: 0.4806 - accuracy: 0.9337 - precision: 0.9411 - recall: 0.9243 - f1_score: 0.9326\n",
      "Epoch 30: val_accuracy did not improve from 0.87641\n",
      "\n",
      "Epoch 30: ReduceLROnPlateau reducing learning rate to 3.200000264769187e-07.\n",
      "84/84 [==============================] - 101s 1s/step - loss: 0.4806 - accuracy: 0.9337 - precision: 0.9411 - recall: 0.9243 - f1_score: 0.9326 - val_loss: 0.6672 - val_accuracy: 0.8730 - val_precision: 0.8789 - val_recall: 0.8674 - val_f1_score: 0.8731 - lr: 1.6000e-06\n"
     ]
    }
   ],
   "source": [
    "# train model\n",
    "class_weight= get_balanced_weight(train_data)\n",
    "if using_class_weight:\n",
    "    history = model.fit(\n",
    "        train_data, \n",
    "        validation_data= test_data, \n",
    "        epochs=epoch, \n",
    "        class_weight=class_weight,\n",
    "        callbacks=[earlystop, checkpoint, learning_rate_reduction])\n",
    "else:\n",
    "    history = model.fit(\n",
    "        train_data, \n",
    "        validation_data= test_data, \n",
    "        epochs=epoch, \n",
    "        callbacks=[earlystop, checkpoint, learning_rate_reduction])"
   ]
  },
  {
   "cell_type": "code",
   "execution_count": 9,
   "metadata": {},
   "outputs": [],
   "source": [
    "parent_dir= '/media/data3/users/longnd/ML_prj/'\n",
    "# save history\n",
    "save_history_to_csv(history, os.path.join(parent_dir, 'history/cnn.csv'))"
   ]
  },
  {
   "cell_type": "code",
   "execution_count": 10,
   "metadata": {},
   "outputs": [
    {
     "data": {
      "image/png": "[encoded data removed]",
      "text/plain": [
       "<Figure size 1000x500 with 1 Axes>"
      ]
     },
     "metadata": {},
     "output_type": "display_data"
    },
    {
     "data": {
      "image/png": "[encoded data removed]",
      "text/plain": [
       "<Figure size 1000x500 with 1 Axes>"
      ]
     },
     "metadata": {},
     "output_type": "display_data"
    }
   ],
   "source": [
    "# plot history\n",
    "plot_history(history)"
   ]
  },
  {
   "cell_type": "code",
   "execution_count": 11,
   "metadata": {},
   "outputs": [
    {
     "name": "stdout",
     "output_type": "stream",
     "text": [
      "21/21 [==============================] - 5s 205ms/step\n",
      "              precision    recall  f1-score   support\n",
      "\n",
      "     COVID19       0.87      0.66      0.75       116\n",
      "     NORMAL1       0.81      0.93      0.86      1017\n",
      "   PNEUMONIA       0.97      0.96      0.96       855\n",
      "TUBERCULOSIS       0.95      0.94      0.94       140\n",
      "PNEUMOTHORAX       0.85      0.65      0.74       534\n",
      "\n",
      "    accuracy                           0.87      2662\n",
      "   macro avg       0.89      0.83      0.85      2662\n",
      "weighted avg       0.88      0.87      0.87      2662\n",
      "\n"
     ]
    },
    {
     "ename": "",
     "evalue": "",
     "output_type": "error",
     "traceback": [
      "\u001b[1;31mThe Kernel crashed while executing code in the the current cell or a previous cell. Please review the code in the cell(s) to identify a possible cause of the failure. Click <a href='https://aka.ms/vscodeJupyterKernelCrash'>here</a> for more info. View Jupyter <a href='command:jupyter.viewOutput'>log</a> for further details."
     ]
    }
   ],
   "source": [
    "# print result\n",
    "# no weight\n",
    "get_report(model, test_data)"
   ]
  },
  {
   "cell_type": "code",
   "execution_count": 25,
   "metadata": {},
   "outputs": [
    {
     "name": "stdout",
     "output_type": "stream",
     "text": [
      "21/21 [==============================] - 16s 751ms/step - loss: 0.5980 - accuracy: 0.8685 - precision: 0.8836 - recall: 0.8610 - f1_score: 0.8721\n"
     ]
    },
    {
     "data": {
      "text/plain": [
       "[0.5979902744293213,\n",
       " 0.8685199022293091,\n",
       " 0.8835774660110474,\n",
       " 0.8610067367553711,\n",
       " 0.8721460700035095]"
      ]
     },
     "execution_count": 25,
     "metadata": {},
     "output_type": "execute_result"
    }
   ],
   "source": [
    "model.evaluate(test_data)"
   ]
  },
  {
   "cell_type": "code",
   "execution_count": 8,
   "metadata": {},
   "outputs": [
    {
     "name": "stdout",
     "output_type": "stream",
     "text": [
      "21/21 [==============================] - 5s 206ms/step\n",
      "              precision    recall  f1-score   support\n",
      "\n",
      "     COVID19       0.74      0.83      0.78       116\n",
      "     NORMAL1       0.85      0.87      0.86      1017\n",
      "   PNEUMONIA       0.97      0.96      0.96       855\n",
      "TUBERCULOSIS       0.98      0.98      0.98       140\n",
      "PNEUMOTHORAX       0.79      0.74      0.76       534\n",
      "\n",
      "    accuracy                           0.88      2662\n",
      "   macro avg       0.86      0.88      0.87      2662\n",
      "weighted avg       0.88      0.88      0.88      2662\n",
      "\n"
     ]
    },
    {
     "ename": "",
     "evalue": "",
     "output_type": "error",
     "traceback": [
      "\u001b[1;31mThe Kernel crashed while executing code in the the current cell or a previous cell. Please review the code in the cell(s) to identify a possible cause of the failure. Click <a href='https://aka.ms/vscodeJupyterKernelCrash'>here</a> for more info. View Jupyter <a href='command:jupyter.viewOutput'>log</a> for further details."
     ]
    }
   ],
   "source": [
    "# weight\n",
    "get_report(model, test_data)"
   ]
  },
  {
   "attachments": {},
   "cell_type": "markdown",
   "metadata": {},
   "source": [
    "#### Using GAN"
   ]
  }
 ],
 "metadata": {
  "kernelspec": {
   "display_name": "tfdml_plugin",
   "language": "python",
   "name": "python3"
  },
  "language_info": {
   "codemirror_mode": {
    "name": "ipython",
    "version": 3
   },
   "file_extension": ".py",
   "mimetype": "text/x-python",
   "name": "python",
   "nbconvert_exporter": "python",
   "pygments_lexer": "ipython3",
   "version": "3.10.6"
  },
  "orig_nbformat": 4
 },
 "nbformat": 4,
 "nbformat_minor": 2
}
