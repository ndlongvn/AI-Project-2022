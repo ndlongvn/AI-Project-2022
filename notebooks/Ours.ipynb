{
 "cells": [
  {
   "cell_type": "code",
   "execution_count": 1,
   "metadata": {},
   "outputs": [],
   "source": [
    "import sys\n",
    "import os\n",
    "sys.path.append(os.path.abspath(os.path.join('..')))\n",
    "from scripts.utils import *\n",
    "from keras.callbacks import ModelCheckpoint, EarlyStopping, ReduceLROnPlateau\n",
    "from model.SE_DenseNet import SE_Dense_Model"
   ]
  },
  {
   "attachments": {},
   "cell_type": "markdown",
   "metadata": {},
   "source": [
    "#### Using weights"
   ]
  },
  {
   "cell_type": "code",
   "execution_count": null,
   "metadata": {},
   "outputs": [],
   "source": [
    "# Init hyperparameters\n",
    "epoch= 20\n",
    "batch_size= 32\n",
    "input_shape= (128, 128, 1)\n",
    "using_class_weight= True\n",
    "num_classes= 5"
   ]
  },
  {
   "cell_type": "code",
   "execution_count": null,
   "metadata": {},
   "outputs": [],
   "source": [
    "# load data\n",
    "train_data, val_data, test_data= get_data('data_1', input_shape, batch_size)\n",
    "model= SE_Dense_Model(input_shape= input_shape, num_classes= num_classes)\n",
    "model_path = \"/media/data3/users/longnd/ML_prj/checkpoints/cnn.h5\"\n",
    "checkpoint = ModelCheckpoint(filepath= model_path,\n",
    "                            save_weights_only= True,\n",
    "                            monitor= 'val_f1_score',\n",
    "                            save_best_only= True, verbose=1)\n",
    "\n",
    "earlystop = EarlyStopping(monitor= 'val_f1_score', \n",
    "                          min_delta= 0.01, \n",
    "                          patience= 15,\n",
    "                          verbose= 1,\n",
    "                          restore_best_weights= True)\n",
    "\n",
    "learning_rate_reduction = ReduceLROnPlateau(monitor='val_f1_score', \n",
    "                                            patience=3, \n",
    "                                            verbose=1, \n",
    "                                            factor=0.2, \n",
    "                                            min_lr=0.00000001)"
   ]
  },
  {
   "cell_type": "code",
   "execution_count": null,
   "metadata": {},
   "outputs": [],
   "source": [
    "# train model\n",
    "class_weight= get_balanced_weight(train_data)\n",
    "if using_class_weight:\n",
    "    history = model.fit(\n",
    "        train_data, \n",
    "        validation_data= val_data, \n",
    "        epochs=20, \n",
    "        class_weight=class_weight,\n",
    "        callbacks=[earlystop, checkpoint, learning_rate_reduction])\n",
    "else:\n",
    "    history = model.fit(\n",
    "        train_data, \n",
    "        validation_data= val_data, \n",
    "        epochs=20, \n",
    "        callbacks=[earlystop, checkpoint, learning_rate_reduction])"
   ]
  },
  {
   "cell_type": "code",
   "execution_count": null,
   "metadata": {},
   "outputs": [],
   "source": [
    "# save history\n",
    "save_history_to_csv(history, 'ourss.csv')"
   ]
  },
  {
   "cell_type": "code",
   "execution_count": null,
   "metadata": {},
   "outputs": [],
   "source": [
    "# plot history\n",
    "plot_history(history)"
   ]
  },
  {
   "cell_type": "code",
   "execution_count": null,
   "metadata": {},
   "outputs": [],
   "source": [
    "# print result\n",
    "get_report(model, test_data)"
   ]
  },
  {
   "attachments": {},
   "cell_type": "markdown",
   "metadata": {},
   "source": [
    "#### Using GAN"
   ]
  }
 ],
 "metadata": {
  "kernelspec": {
   "display_name": "tfdml_plugin",
   "language": "python",
   "name": "python3"
  },
  "language_info": {
   "codemirror_mode": {
    "name": "ipython",
    "version": 3
   },
   "file_extension": ".py",
   "mimetype": "text/x-python",
   "name": "python",
   "nbconvert_exporter": "python",
   "pygments_lexer": "ipython3",
   "version": "3.9.16"
  },
  "orig_nbformat": 4
 },
 "nbformat": 4,
 "nbformat_minor": 2
}
